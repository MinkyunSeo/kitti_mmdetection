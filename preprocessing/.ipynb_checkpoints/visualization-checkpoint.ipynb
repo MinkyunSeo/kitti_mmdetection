{
 "cells": [
  {
   "cell_type": "markdown",
   "metadata": {},
   "source": [
    "## Configure the Path for Your Data and Label Files"
   ]
  },
  {
   "cell_type": "code",
   "execution_count": null,
   "metadata": {},
   "outputs": [],
   "source": [
    "%cd ..\n",
    "%cd ..\n",
    "%cd kitti_mmdetection"
   ]
  },
  {
   "cell_type": "code",
   "execution_count": null,
   "metadata": {},
   "outputs": [],
   "source": [
    "import os\n",
    "\n",
    "dir = \"data/\"\n",
    "training_image_path = os.path.join(dir, \"train/image/\")\n",
    "training_label_path = os.path.join(dir, \"train/label/\")\n",
    "train_coco_format_path = os.path.join(dir, \"train/coco/kitti_coco_format_train.json\")\n",
    "val_image_path = os.path.join(dir, \"val/image/\")\n",
    "val_label_path = os.path.join(dir, \"val/label/\")\n",
    "val_coco_format_path = os.path.join(dir, \"val/coco/kitti_coco_format_val.json\")"
   ]
  },
  {
   "cell_type": "code",
   "execution_count": null,
   "metadata": {},
   "outputs": [],
   "source": [
    "%pwd"
   ]
  },
  {
   "cell_type": "markdown",
   "metadata": {},
   "source": [
    "### Load Kitti image"
   ]
  },
  {
   "cell_type": "code",
   "execution_count": null,
   "metadata": {},
   "outputs": [],
   "source": [
    "import os\n",
    "import cv2\n",
    "import matplotlib.pyplot as plt\n",
    "\n",
    "if __name__ == \"__main__\":\n",
    "    \n",
    "    # Load training images\n",
    "    training_image_files = os.listdir(training_image_path)\n",
    "    \n",
    "    # Get the path of the first image file\n",
    "    image_file = training_image_files[0]\n",
    "    image_path = os.path.join(training_image_path, image_file)\n",
    "\n",
    "    # Load the image\n",
    "    image = cv2.imread(image_path)\n",
    "\n",
    "    # Display the image on the screen\n",
    "    plt.imshow(cv2.cvtColor(image, cv2.COLOR_BGR2RGB))\n",
    "    plt.title('Image')\n",
    "    plt.axis('off')\n",
    "    plt.show()\n"
   ]
  },
  {
   "cell_type": "code",
   "execution_count": null,
   "metadata": {},
   "outputs": [],
   "source": [
    "import os\n",
    "import cv2\n",
    "import matplotlib.pyplot as plt\n",
    "import matplotlib.patches as patches\n",
    "\n",
    "def read_kitti_labels(label_path):\n",
    "    with open(label_path, 'r') as f:\n",
    "        lines = f.readlines()\n",
    "    labels = [line.strip().split(' ') for line in lines]\n",
    "    return labels\n",
    "\n",
    "def draw_labels_on_image(image, labels):\n",
    "    fig, ax = plt.subplots()\n",
    "    ax.imshow(cv2.cvtColor(image, cv2.COLOR_BGR2RGB))\n",
    "\n",
    "    for label in labels:\n",
    "        obj_type = label[0]\n",
    "        x_min, y_min, x_max, y_max = map(float, label[4:8])\n",
    "        width = x_max - x_min\n",
    "        height = y_max - y_min\n",
    "\n",
    "        rect = patches.Rectangle((x_min, y_min), width, height, linewidth=2, edgecolor='r', facecolor='none')\n",
    "        ax.add_patch(rect)\n",
    "        ax.text(x_min, y_min, obj_type, color='w')\n",
    "\n",
    "    plt.title('Image with Labels')\n",
    "    plt.axis('off')\n",
    "    plt.show()\n",
    "\n",
    "if __name__ == \"__main__\":\n",
    "    \n",
    "    # Load training images\n",
    "    training_image_files = os.listdir(training_image_path)\n",
    "\n",
    "    # Get the path of the first image file\n",
    "    image_file = training_image_files[0]\n",
    "    image_path = os.path.join(training_image_path, image_file)\n",
    "\n",
    "    # Load the image\n",
    "    image = cv2.imread(image_path)\n",
    "\n",
    "    # Load label information\n",
    "    label_file = os.path.join(training_label_path, image_file.replace(\".png\", \".txt\"))\n",
    "    labels = read_kitti_labels(label_file)\n",
    "\n",
    "    # Add bounding boxes and labels to the image\n",
    "    draw_labels_on_image(image, labels)\n"
   ]
  },
  {
   "cell_type": "code",
   "execution_count": null,
   "metadata": {},
   "outputs": [],
   "source": [
    "import os\n",
    "import cv2\n",
    "import json\n",
    "import matplotlib.pyplot as plt\n",
    "import matplotlib.patches as patches\n",
    "\n",
    "def draw_labels_on_image(image, coco_annotations):\n",
    "    fig, ax = plt.subplots()\n",
    "    ax.imshow(cv2.cvtColor(image, cv2.COLOR_BGR2RGB))\n",
    "\n",
    "    for annotation in coco_annotations:\n",
    "        category_id = annotation['category_id']\n",
    "        class_name = coco_categories[category_id]\n",
    "\n",
    "        bbox = annotation['bbox']\n",
    "        x_min, y_min, width, height = bbox\n",
    "\n",
    "        rect = patches.Rectangle((x_min, y_min), width, height, linewidth=2, edgecolor='r', facecolor='none')\n",
    "        ax.add_patch(rect)\n",
    "        ax.text(x_min, y_min, class_name, color='white', fontsize=8, va='center', ha='center',\n",
    "                bbox=dict(facecolor='red', alpha=0.1))\n",
    "\n",
    "    plt.title('Image with Labels')\n",
    "    plt.axis('off')\n",
    "    plt.show()\n",
    "\n",
    "if __name__ == \"__main__\":\n",
    "    \n",
    "    # Load COCO format JSON data\n",
    "    with open(train_coco_format_path, 'r') as json_file:\n",
    "        coco_data = json.load(json_file)\n",
    "\n",
    "    # Build a category mapping for COCO format\n",
    "    coco_categories = {}\n",
    "    for category in coco_data['categories']:\n",
    "        coco_categories[category['id']] = category['name']\n",
    "\n",
    "    # Load training images\n",
    "    training_image_files = os.listdir(training_image_path)\n",
    "\n",
    "    # Get the path of the first image file\n",
    "    image_file = training_image_files[0]\n",
    "    image_path = os.path.join(training_image_path, image_file)\n",
    "\n",
    "    # Load the image\n",
    "    image = cv2.imread(image_path)\n",
    "\n",
    "    # Get COCO format label information for the image\n",
    "    image_id = int(image_file.split('.')[0])\n",
    "    coco_annotations = [ann for ann in coco_data['annotations'] if ann['image_id'] == image_id]\n",
    "\n",
    "    # Add bounding boxes and labels to the image\n",
    "    draw_labels_on_image(image, coco_annotations)\n"
   ]
  }
 ],
 "metadata": {
  "kernelspec": {
   "display_name": "Python 3 (ipykernel)",
   "language": "python",
   "name": "python3"
  },
  "language_info": {
   "codemirror_mode": {
    "name": "ipython",
    "version": 3
   },
   "file_extension": ".py",
   "mimetype": "text/x-python",
   "name": "python",
   "nbconvert_exporter": "python",
   "pygments_lexer": "ipython3",
   "version": "3.11.3"
  }
 },
 "nbformat": 4,
 "nbformat_minor": 2
}
